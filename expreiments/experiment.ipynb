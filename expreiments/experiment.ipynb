{
 "cells": [
  {
   "cell_type": "code",
   "execution_count": null,
   "outputs": [],
   "source": [],
   "metadata": {
    "collapsed": false,
    "pycharm": {
     "name": "#%%\n"
    }
   }
  },
  {
   "cell_type": "code",
   "execution_count": null,
   "outputs": [],
   "source": [],
   "metadata": {
    "collapsed": false,
    "pycharm": {
     "name": "#%%\n"
    }
   }
  },
  {
   "cell_type": "code",
   "execution_count": null,
   "outputs": [],
   "source": [],
   "metadata": {
    "collapsed": false,
    "pycharm": {
     "name": "#%%\n"
    }
   }
  },
  {
   "cell_type": "code",
   "execution_count": 13,
   "outputs": [
    {
     "data": {
      "text/plain": "{'ResponseMetadata': {'RequestId': 'bdc37588-4ef7-4d03-956c-e50bee557fa2',\n  'HTTPStatusCode': 200,\n  'HTTPHeaders': {'date': 'Sun, 04 Dec 2022 19:25:24 GMT',\n   'content-type': 'application/json',\n   'content-length': '2795',\n   'connection': 'keep-alive',\n   'x-amzn-requestid': 'bdc37588-4ef7-4d03-956c-e50bee557fa2',\n   'access-control-allow-origin': '*',\n   'x-amz-apigw-id': 'cosVtEGmliAFeeQ=',\n   'access-control-expose-headers': 'x-amzn-RequestId,x-amzn-ErrorType,x-amzn-ErrorMessage,Date',\n   'x-amzn-trace-id': 'Root=1-638cf424-478538762082f57d6fcc2190'},\n  'RetryAttempts': 0},\n 'Items': [{'ApiEndpoint': 'https://0vv7f60e1i.execute-api.eu-central-1.amazonaws.com',\n   'ApiId': '0vv7f60e1i',\n   'ApiKeySelectionExpression': '$request.header.x-api-key',\n   'CreatedDate': datetime.datetime(2022, 11, 29, 17, 58, 37, tzinfo=tzutc()),\n   'DisableExecuteApiEndpoint': False,\n   'Name': 'dev-aws-python-flask-api',\n   'ProtocolType': 'HTTP',\n   'RouteSelectionExpression': '$request.method $request.path',\n   'Tags': {'aws:cloudformation:stack-name': 'aws-python-flask-api-dev',\n    'aws:cloudformation:logical-id': 'HttpApi',\n    'aws:cloudformation:stack-id': 'arn:aws:cloudformation:eu-central-1:958783559395:stack/aws-python-flask-api-dev/2b0ce880-700f-11ed-8cc9-0251911f3c74',\n    'STAGE': 'dev'}},\n  {'ApiEndpoint': 'https://3ox4krfln2.execute-api.eu-central-1.amazonaws.com',\n   'ApiId': '3ox4krfln2',\n   'ApiKeySelectionExpression': '$request.header.x-api-key',\n   'CreatedDate': datetime.datetime(2022, 11, 29, 13, 11, 59, tzinfo=tzutc()),\n   'DisableExecuteApiEndpoint': False,\n   'Name': 'dev-dashboards-front',\n   'ProtocolType': 'HTTP',\n   'RouteSelectionExpression': '$request.method $request.path',\n   'Tags': {'aws:cloudformation:stack-name': 'dashboards-front-dev',\n    'aws:cloudformation:logical-id': 'HttpApi',\n    'aws:cloudformation:stack-id': 'arn:aws:cloudformation:eu-central-1:958783559395:stack/dashboards-front-dev/3ff6c9a0-6fe7-11ed-aef9-061b80e75d7e',\n    'STAGE': 'dev'}},\n  {'ApiEndpoint': 'https://pmriurckxg.execute-api.eu-central-1.amazonaws.com',\n   'ApiId': 'pmriurckxg',\n   'ApiKeySelectionExpression': '$request.header.x-api-key',\n   'CreatedDate': datetime.datetime(2022, 12, 2, 18, 28, 54, tzinfo=tzutc()),\n   'DisableExecuteApiEndpoint': False,\n   'Name': 'dev-front',\n   'ProtocolType': 'HTTP',\n   'RouteSelectionExpression': '$request.method $request.path',\n   'Tags': {'aws:cloudformation:stack-name': 'front-dev',\n    'aws:cloudformation:logical-id': 'HttpApi',\n    'aws:cloudformation:stack-id': 'arn:aws:cloudformation:eu-central-1:958783559395:stack/front-dev/12273890-726f-11ed-9cff-0257515b8e42',\n    'STAGE': 'dev'}},\n  {'ApiEndpoint': 'https://s65raindmk.execute-api.eu-central-1.amazonaws.com',\n   'ApiId': 's65raindmk',\n   'ApiKeySelectionExpression': '$request.header.x-api-key',\n   'CreatedDate': datetime.datetime(2022, 11, 29, 16, 16, 37, tzinfo=tzutc()),\n   'DisableExecuteApiEndpoint': False,\n   'Name': 'stage-front',\n   'ProtocolType': 'HTTP',\n   'RouteSelectionExpression': '$request.method $request.path',\n   'Tags': {'aws:cloudformation:stack-name': 'front-stage',\n    'aws:cloudformation:logical-id': 'HttpApi',\n    'aws:cloudformation:stack-id': 'arn:aws:cloudformation:eu-central-1:958783559395:stack/front-stage/f34f12f0-7000-11ed-8572-06f588a91f26',\n    'STAGE': 'stage'}}]}"
     },
     "execution_count": 13,
     "metadata": {},
     "output_type": "execute_result"
    }
   ],
   "source": [
    "import boto3\n",
    "\n",
    "client = boto3.client('apigatewayv2')\n",
    "client.get_apis(Name=\"dev-front\")\n"
   ],
   "metadata": {
    "collapsed": false,
    "pycharm": {
     "name": "#%%\n"
    }
   }
  },
  {
   "cell_type": "code",
   "execution_count": 19,
   "outputs": [
    {
     "data": {
      "text/plain": "'https://pmriurckxg.execute-api.eu-central-1.amazonaws.com'"
     },
     "execution_count": 19,
     "metadata": {},
     "output_type": "execute_result"
    }
   ],
   "source": [],
   "metadata": {
    "collapsed": false,
    "pycharm": {
     "name": "#%%\n"
    }
   }
  },
  {
   "cell_type": "code",
   "execution_count": 7,
   "outputs": [
    {
     "ename": "StopIteration",
     "evalue": "",
     "output_type": "error",
     "traceback": [
      "\u001B[0;31m---------------------------------------------------------------------------\u001B[0m",
      "\u001B[0;31mStopIteration\u001B[0m                             Traceback (most recent call last)",
      "Cell \u001B[0;32mIn[7], line 10\u001B[0m\n\u001B[1;32m      7\u001B[0m apis \u001B[38;5;241m=\u001B[39m response[\u001B[38;5;124m'\u001B[39m\u001B[38;5;124mitems\u001B[39m\u001B[38;5;124m'\u001B[39m]\n\u001B[1;32m      9\u001B[0m \u001B[38;5;66;03m# Find the API that is associated with the Lambda function\u001B[39;00m\n\u001B[0;32m---> 10\u001B[0m api \u001B[38;5;241m=\u001B[39m \u001B[38;5;28;43mnext\u001B[39;49m\u001B[43m(\u001B[49m\u001B[43mapi\u001B[49m\u001B[43m \u001B[49m\u001B[38;5;28;43;01mfor\u001B[39;49;00m\u001B[43m \u001B[49m\u001B[43mapi\u001B[49m\u001B[43m \u001B[49m\u001B[38;5;129;43;01min\u001B[39;49;00m\u001B[43m \u001B[49m\u001B[43mapis\u001B[49m\u001B[43m \u001B[49m\u001B[38;5;28;43;01mif\u001B[39;49;00m\u001B[43m \u001B[49m\u001B[43mapi\u001B[49m\u001B[43m[\u001B[49m\u001B[38;5;124;43m'\u001B[39;49m\u001B[38;5;124;43mname\u001B[39;49m\u001B[38;5;124;43m'\u001B[39;49m\u001B[43m]\u001B[49m\u001B[43m \u001B[49m\u001B[38;5;241;43m==\u001B[39;49m\u001B[43m \u001B[49m\u001B[38;5;124;43m'\u001B[39;49m\u001B[38;5;124;43mfront-dev-api\u001B[39;49m\u001B[38;5;124;43m'\u001B[39;49m\u001B[43m)\u001B[49m\n\u001B[1;32m     12\u001B[0m \u001B[38;5;66;03m# Get a list of all the resources in the API\u001B[39;00m\n\u001B[1;32m     13\u001B[0m response \u001B[38;5;241m=\u001B[39m api_gateway\u001B[38;5;241m.\u001B[39mget_resources(restApiId\u001B[38;5;241m=\u001B[39mapi[\u001B[38;5;124m'\u001B[39m\u001B[38;5;124mid\u001B[39m\u001B[38;5;124m'\u001B[39m])\n",
      "\u001B[0;31mStopIteration\u001B[0m: "
     ]
    }
   ],
   "source": [
    "import boto3\n",
    "\n",
    "api_gateway = boto3.client('apigateway', region_name=\"eu-central-1\")\n",
    "\n",
    "# Get a list of all the APIs in the account\n",
    "response = api_gateway.get_()\n",
    "apis = response['items']\n",
    "\n",
    "# Find the API that is associated with the Lambda function\n",
    "api = next(api for api in apis if api['name'] == 'front-dev-api')\n",
    "\n",
    "# Get a list of all the resources in the API\n",
    "response = api_gateway.get_resources(restApiId=api['id'])\n",
    "resources = response['items']\n",
    "\n",
    "# Find the resource that is associated with the Lambda function\n",
    "resource = next(resource for resource in resources if resource['path'] == '/')\n",
    "\n",
    "# Get the HTTP method that is associated with the resource\n",
    "response = api_gateway.get_method(restApiId=api['id'], resourceId=resource['id'], httpMethod='ANY')\n",
    "method = response['httpMethod']\n",
    "\n",
    "# Get the integration that is associated with the method\n",
    "response = api_gateway.get_integration(restApiId=api['id'], resourceId=resource['id'], httpMethod=method)\n",
    "integration = response['type']\n",
    "\n",
    "# Get the endpoint URL for the integration\n",
    "endpoint = integration['uri']\n"
   ],
   "metadata": {
    "collapsed": false,
    "pycharm": {
     "name": "#%%\n"
    }
   }
  },
  {
   "cell_type": "code",
   "execution_count": 9,
   "outputs": [
    {
     "data": {
      "text/plain": "{'ResponseMetadata': {'RequestId': '8927158f-f86d-4dcb-9e23-a1ec015e9c3f',\n  'HTTPStatusCode': 200,\n  'HTTPHeaders': {'date': 'Sun, 04 Dec 2022 19:11:25 GMT',\n   'content-type': 'application/json',\n   'content-length': '278',\n   'connection': 'keep-alive',\n   'x-amzn-requestid': '8927158f-f86d-4dcb-9e23-a1ec015e9c3f',\n   'x-amz-apigw-id': 'coqSoLHgFiAEbJw='},\n  'RetryAttempts': 0},\n 'items': [{'id': '8iln3f46hl',\n   'name': 'dev-hello-world',\n   'createdDate': datetime.datetime(2022, 11, 29, 21, 34, 24, tzinfo=tzlocal()),\n   'apiKeySource': 'HEADER',\n   'endpointConfiguration': {'types': ['EDGE']},\n   'tags': {'App': 'hello-world-api-dev',\n    'CFStack': 'hello-world-api-dev',\n    'STAGE': 'dev'},\n   'disableExecuteApiEndpoint': False}]}"
     },
     "execution_count": 9,
     "metadata": {},
     "output_type": "execute_result"
    }
   ],
   "source": [
    "response"
   ],
   "metadata": {
    "collapsed": false,
    "pycharm": {
     "name": "#%%\n"
    }
   }
  },
  {
   "cell_type": "code",
   "execution_count": 3,
   "outputs": [
    {
     "data": {
      "text/plain": "'arn:aws:lambda:eu-central-1:958783559395:function:front-dev-api'"
     },
     "execution_count": 3,
     "metadata": {},
     "output_type": "execute_result"
    }
   ],
   "source": [
    "endpoint\n"
   ],
   "metadata": {
    "collapsed": false,
    "pycharm": {
     "name": "#%%\n"
    }
   }
  },
  {
   "cell_type": "code",
   "execution_count": 1,
   "outputs": [],
   "source": [
    "import boto3\n",
    "import pandas as pd\n",
    "from dynamo_pandas import put_df, get_df, keys\n"
   ],
   "metadata": {
    "collapsed": false,
    "pycharm": {
     "name": "#%%\n"
    }
   }
  },
  {
   "cell_type": "code",
   "execution_count": 1,
   "metadata": {
    "collapsed": true,
    "pycharm": {
     "name": "#%%\n"
    }
   },
   "outputs": [],
   "source": [
    "\n",
    "def upload_to_dynamodb(df, table_name):\n",
    "    dynamodb = boto3.resource('dynamodb')\n",
    "    table = dynamodb.Table(table_name)\n",
    "    with table.batch_writer() as batch:\n",
    "        for index, row in df.iterrows():\n",
    "            batch.put_item(Item=row.to_dict())\n"
   ]
  },
  {
   "cell_type": "code",
   "execution_count": 49,
   "outputs": [
    {
     "data": {
      "text/plain": "                      listing_avgRatingA11yLabel listing_avgRatingLocalized  \\\n0                              New place to stay                        New   \n1                              New place to stay                        New   \n2                              New place to stay                        New   \n3      4.56 out of 5 average rating,  32 reviews                  4.56 (32)   \n4      4.63 out of 5 average rating,  31 reviews                  4.63 (31)   \n...                                          ...                        ...   \n40536                                       None                       None   \n40537                                       None                       None   \n40538                                       None                       None   \n40539                                       None                       None   \n40540                                       None                       None   \n\n         listing_city  listing_contextualPicturesCount  \\\n0                 Kaş                              6.0   \n1                 Kaş                             11.0   \n2                 Kaş                             19.0   \n3      Gökçeören Köyü                             13.0   \n4                 Kaş                             14.0   \n...               ...                              ...   \n40536            None                              7.0   \n40537        T'bilisi                             15.0   \n40538        T'bilisi                             11.0   \n40539        T'bilisi                             17.0   \n40540        T'bilisi                             29.0   \n\n      listing_contextualPicturesPageInfo_endCursor  \\\n0                                             None   \n1                                             NQ==   \n2                                             NQ==   \n3                                             NQ==   \n4                                             NQ==   \n...                                            ...   \n40536                                         NQ==   \n40537                                         NQ==   \n40538                                         NQ==   \n40539                                         NQ==   \n40540                                         NQ==   \n\n      listing_contextualPicturesPageInfo_hasNextPage  \\\n0                                              False   \n1                                               True   \n2                                               True   \n3                                               True   \n4                                               True   \n...                                              ...   \n40536                                           True   \n40537                                           True   \n40538                                           True   \n40539                                           True   \n40540                                           True   \n\n      listing_contextualPicturesPageInfo_hasPreviousPage  \\\n0                                                  False   \n1                                                  False   \n2                                                  False   \n3                                                  False   \n4                                                  False   \n...                                                  ...   \n40536                                              False   \n40537                                              False   \n40538                                              False   \n40539                                              False   \n40540                                              False   \n\n       listing_contextualPicturesPageInfo_startCursor  \\\n0                                                 NaN   \n1                                                 NaN   \n2                                                 NaN   \n3                                                 NaN   \n4                                                 NaN   \n...                                               ...   \n40536                                             NaN   \n40537                                             NaN   \n40538                                             NaN   \n40539                                             NaN   \n40540                                             NaN   \n\n       listing_coordinate_latitude  listing_coordinate_longitude  ...  \\\n0                        36.203008                     29.639369  ...   \n1                        36.264302                     29.493958  ...   \n2                        36.269610                     29.415060  ...   \n3                        36.221524                     29.554669  ...   \n4                        36.216250                     29.685360  ...   \n...                            ...                           ...  ...   \n40536                    41.788980                     45.002530  ...   \n40537                    41.688910                     44.798360  ...   \n40538                    41.807280                     44.780240  ...   \n40539                    41.681280                     44.835990  ...   \n40540                    41.688220                     44.840060  ...   \n\n      structuredStayDisplayPrice_primaryLine_concatQualifierLeft  \\\n0                                                    NaN           \n1                                                    NaN           \n2                                                    NaN           \n3                                                    NaN           \n4                                                    NaN           \n...                                                  ...           \n40536                                                NaN           \n40537                                                NaN           \n40538                                                NaN           \n40539                                                NaN           \n40540                                                NaN           \n\n      structuredStayDisplayPrice_primaryLine_trailingContent  \\\n0                                                    NaN       \n1                                                    NaN       \n2                                                    NaN       \n3                                                    NaN       \n4                                                    NaN       \n...                                                  ...       \n40536                                                NaN       \n40537                                                NaN       \n40538                                                NaN       \n40539                                                NaN       \n40540                                                NaN       \n\n      structuredStayDisplayPrice_secondaryLine_displayComponentType  \\\n0                                                    NaN              \n1                                                    NaN              \n2                                                    NaN              \n3                                                    NaN              \n4                                                    NaN              \n...                                                  ...              \n40536                                                NaN              \n40537                                                NaN              \n40538                                                NaN              \n40539                                                NaN              \n40540                                                NaN              \n\n      structuredStayDisplayPrice_secondaryLine_accessibilityLabel  \\\n0                                                    NaN            \n1                                                    NaN            \n2                                                    NaN            \n3                                                    NaN            \n4                                                    NaN            \n...                                                  ...            \n40536                                                NaN            \n40537                                                NaN            \n40538                                                NaN            \n40539                                                NaN            \n40540                                                NaN            \n\n      structuredStayDisplayPrice_secondaryLine_price  \\\n0                                                NaN   \n1                                                NaN   \n2                                                NaN   \n3                                                NaN   \n4                                                NaN   \n...                                              ...   \n40536                                            NaN   \n40537                                            NaN   \n40538                                            NaN   \n40539                                            NaN   \n40540                                            NaN   \n\n       structuredStayDisplayPrice_secondaryLine_trailingContent  \\\n0                                                    NaN          \n1                                                    NaN          \n2                                                    NaN          \n3                                                    NaN          \n4                                                    NaN          \n...                                                  ...          \n40536                                                NaN          \n40537                                                NaN          \n40538                                                NaN          \n40539                                                NaN          \n40540                                                NaN          \n\n       structuredStayDisplayPrice_explanationData_title  \\\n0                                                   NaN   \n1                                                   NaN   \n2                                                   NaN   \n3                                                   NaN   \n4                                                   NaN   \n...                                                 ...   \n40536                                               NaN   \n40537                                               NaN   \n40538                                               NaN   \n40539                                               NaN   \n40540                                               NaN   \n\n       structuredStayDisplayPrice_explanationDataDisplayPosition  \\\n0                                                    NaN           \n1                                                    NaN           \n2                                                    NaN           \n3                                                    NaN           \n4                                                    NaN           \n...                                                  ...           \n40536                                                NaN           \n40537                                                NaN           \n40538                                                NaN           \n40539                                                NaN           \n40540                                                NaN           \n\n       structuredStayDisplayPrice_explanationDataDisplayPriceTriggerType  \\\n0                                                    NaN                   \n1                                                    NaN                   \n2                                                    NaN                   \n3                                                    NaN                   \n4                                                    NaN                   \n...                                                  ...                   \n40536                                                NaN                   \n40537                                                NaN                   \n40538                                                NaN                   \n40539                                                NaN                   \n40540                                                NaN                   \n\n       structuredStayDisplayPrice_layout  \n0                                    NaN  \n1                                    NaN  \n2                                    NaN  \n3                                    NaN  \n4                                    NaN  \n...                                  ...  \n40536                                NaN  \n40537                                NaN  \n40538                                NaN  \n40539                                NaN  \n40540                                NaN  \n\n[40541 rows x 74 columns]",
      "text/html": "<div>\n<style scoped>\n    .dataframe tbody tr th:only-of-type {\n        vertical-align: middle;\n    }\n\n    .dataframe tbody tr th {\n        vertical-align: top;\n    }\n\n    .dataframe thead th {\n        text-align: right;\n    }\n</style>\n<table border=\"1\" class=\"dataframe\">\n  <thead>\n    <tr style=\"text-align: right;\">\n      <th></th>\n      <th>listing_avgRatingA11yLabel</th>\n      <th>listing_avgRatingLocalized</th>\n      <th>listing_city</th>\n      <th>listing_contextualPicturesCount</th>\n      <th>listing_contextualPicturesPageInfo_endCursor</th>\n      <th>listing_contextualPicturesPageInfo_hasNextPage</th>\n      <th>listing_contextualPicturesPageInfo_hasPreviousPage</th>\n      <th>listing_contextualPicturesPageInfo_startCursor</th>\n      <th>listing_coordinate_latitude</th>\n      <th>listing_coordinate_longitude</th>\n      <th>...</th>\n      <th>structuredStayDisplayPrice_primaryLine_concatQualifierLeft</th>\n      <th>structuredStayDisplayPrice_primaryLine_trailingContent</th>\n      <th>structuredStayDisplayPrice_secondaryLine_displayComponentType</th>\n      <th>structuredStayDisplayPrice_secondaryLine_accessibilityLabel</th>\n      <th>structuredStayDisplayPrice_secondaryLine_price</th>\n      <th>structuredStayDisplayPrice_secondaryLine_trailingContent</th>\n      <th>structuredStayDisplayPrice_explanationData_title</th>\n      <th>structuredStayDisplayPrice_explanationDataDisplayPosition</th>\n      <th>structuredStayDisplayPrice_explanationDataDisplayPriceTriggerType</th>\n      <th>structuredStayDisplayPrice_layout</th>\n    </tr>\n  </thead>\n  <tbody>\n    <tr>\n      <th>0</th>\n      <td>New place to stay</td>\n      <td>New</td>\n      <td>Kaş</td>\n      <td>6.0</td>\n      <td>None</td>\n      <td>False</td>\n      <td>False</td>\n      <td>NaN</td>\n      <td>36.203008</td>\n      <td>29.639369</td>\n      <td>...</td>\n      <td>NaN</td>\n      <td>NaN</td>\n      <td>NaN</td>\n      <td>NaN</td>\n      <td>NaN</td>\n      <td>NaN</td>\n      <td>NaN</td>\n      <td>NaN</td>\n      <td>NaN</td>\n      <td>NaN</td>\n    </tr>\n    <tr>\n      <th>1</th>\n      <td>New place to stay</td>\n      <td>New</td>\n      <td>Kaş</td>\n      <td>11.0</td>\n      <td>NQ==</td>\n      <td>True</td>\n      <td>False</td>\n      <td>NaN</td>\n      <td>36.264302</td>\n      <td>29.493958</td>\n      <td>...</td>\n      <td>NaN</td>\n      <td>NaN</td>\n      <td>NaN</td>\n      <td>NaN</td>\n      <td>NaN</td>\n      <td>NaN</td>\n      <td>NaN</td>\n      <td>NaN</td>\n      <td>NaN</td>\n      <td>NaN</td>\n    </tr>\n    <tr>\n      <th>2</th>\n      <td>New place to stay</td>\n      <td>New</td>\n      <td>Kaş</td>\n      <td>19.0</td>\n      <td>NQ==</td>\n      <td>True</td>\n      <td>False</td>\n      <td>NaN</td>\n      <td>36.269610</td>\n      <td>29.415060</td>\n      <td>...</td>\n      <td>NaN</td>\n      <td>NaN</td>\n      <td>NaN</td>\n      <td>NaN</td>\n      <td>NaN</td>\n      <td>NaN</td>\n      <td>NaN</td>\n      <td>NaN</td>\n      <td>NaN</td>\n      <td>NaN</td>\n    </tr>\n    <tr>\n      <th>3</th>\n      <td>4.56 out of 5 average rating,  32 reviews</td>\n      <td>4.56 (32)</td>\n      <td>Gökçeören Köyü</td>\n      <td>13.0</td>\n      <td>NQ==</td>\n      <td>True</td>\n      <td>False</td>\n      <td>NaN</td>\n      <td>36.221524</td>\n      <td>29.554669</td>\n      <td>...</td>\n      <td>NaN</td>\n      <td>NaN</td>\n      <td>NaN</td>\n      <td>NaN</td>\n      <td>NaN</td>\n      <td>NaN</td>\n      <td>NaN</td>\n      <td>NaN</td>\n      <td>NaN</td>\n      <td>NaN</td>\n    </tr>\n    <tr>\n      <th>4</th>\n      <td>4.63 out of 5 average rating,  31 reviews</td>\n      <td>4.63 (31)</td>\n      <td>Kaş</td>\n      <td>14.0</td>\n      <td>NQ==</td>\n      <td>True</td>\n      <td>False</td>\n      <td>NaN</td>\n      <td>36.216250</td>\n      <td>29.685360</td>\n      <td>...</td>\n      <td>NaN</td>\n      <td>NaN</td>\n      <td>NaN</td>\n      <td>NaN</td>\n      <td>NaN</td>\n      <td>NaN</td>\n      <td>NaN</td>\n      <td>NaN</td>\n      <td>NaN</td>\n      <td>NaN</td>\n    </tr>\n    <tr>\n      <th>...</th>\n      <td>...</td>\n      <td>...</td>\n      <td>...</td>\n      <td>...</td>\n      <td>...</td>\n      <td>...</td>\n      <td>...</td>\n      <td>...</td>\n      <td>...</td>\n      <td>...</td>\n      <td>...</td>\n      <td>...</td>\n      <td>...</td>\n      <td>...</td>\n      <td>...</td>\n      <td>...</td>\n      <td>...</td>\n      <td>...</td>\n      <td>...</td>\n      <td>...</td>\n      <td>...</td>\n    </tr>\n    <tr>\n      <th>40536</th>\n      <td>None</td>\n      <td>None</td>\n      <td>None</td>\n      <td>7.0</td>\n      <td>NQ==</td>\n      <td>True</td>\n      <td>False</td>\n      <td>NaN</td>\n      <td>41.788980</td>\n      <td>45.002530</td>\n      <td>...</td>\n      <td>NaN</td>\n      <td>NaN</td>\n      <td>NaN</td>\n      <td>NaN</td>\n      <td>NaN</td>\n      <td>NaN</td>\n      <td>NaN</td>\n      <td>NaN</td>\n      <td>NaN</td>\n      <td>NaN</td>\n    </tr>\n    <tr>\n      <th>40537</th>\n      <td>None</td>\n      <td>None</td>\n      <td>T'bilisi</td>\n      <td>15.0</td>\n      <td>NQ==</td>\n      <td>True</td>\n      <td>False</td>\n      <td>NaN</td>\n      <td>41.688910</td>\n      <td>44.798360</td>\n      <td>...</td>\n      <td>NaN</td>\n      <td>NaN</td>\n      <td>NaN</td>\n      <td>NaN</td>\n      <td>NaN</td>\n      <td>NaN</td>\n      <td>NaN</td>\n      <td>NaN</td>\n      <td>NaN</td>\n      <td>NaN</td>\n    </tr>\n    <tr>\n      <th>40538</th>\n      <td>None</td>\n      <td>None</td>\n      <td>T'bilisi</td>\n      <td>11.0</td>\n      <td>NQ==</td>\n      <td>True</td>\n      <td>False</td>\n      <td>NaN</td>\n      <td>41.807280</td>\n      <td>44.780240</td>\n      <td>...</td>\n      <td>NaN</td>\n      <td>NaN</td>\n      <td>NaN</td>\n      <td>NaN</td>\n      <td>NaN</td>\n      <td>NaN</td>\n      <td>NaN</td>\n      <td>NaN</td>\n      <td>NaN</td>\n      <td>NaN</td>\n    </tr>\n    <tr>\n      <th>40539</th>\n      <td>None</td>\n      <td>None</td>\n      <td>T'bilisi</td>\n      <td>17.0</td>\n      <td>NQ==</td>\n      <td>True</td>\n      <td>False</td>\n      <td>NaN</td>\n      <td>41.681280</td>\n      <td>44.835990</td>\n      <td>...</td>\n      <td>NaN</td>\n      <td>NaN</td>\n      <td>NaN</td>\n      <td>NaN</td>\n      <td>NaN</td>\n      <td>NaN</td>\n      <td>NaN</td>\n      <td>NaN</td>\n      <td>NaN</td>\n      <td>NaN</td>\n    </tr>\n    <tr>\n      <th>40540</th>\n      <td>None</td>\n      <td>None</td>\n      <td>T'bilisi</td>\n      <td>29.0</td>\n      <td>NQ==</td>\n      <td>True</td>\n      <td>False</td>\n      <td>NaN</td>\n      <td>41.688220</td>\n      <td>44.840060</td>\n      <td>...</td>\n      <td>NaN</td>\n      <td>NaN</td>\n      <td>NaN</td>\n      <td>NaN</td>\n      <td>NaN</td>\n      <td>NaN</td>\n      <td>NaN</td>\n      <td>NaN</td>\n      <td>NaN</td>\n      <td>NaN</td>\n    </tr>\n  </tbody>\n</table>\n<p>40541 rows × 74 columns</p>\n</div>"
     },
     "execution_count": 49,
     "metadata": {},
     "output_type": "execute_result"
    }
   ],
   "source": [
    "df = pd.read_pickle(\"/Users/alexeygrachev/Desktop/git/airbnbcrawl/artifacts/221124-210206/data.zip\")\n",
    "df"
   ],
   "metadata": {
    "collapsed": false,
    "pycharm": {
     "name": "#%%\n"
    }
   }
  },
  {
   "cell_type": "code",
   "execution_count": 50,
   "outputs": [],
   "source": [
    "df = df[~df.duplicated(\"listing_id\")]"
   ],
   "metadata": {
    "collapsed": false,
    "pycharm": {
     "name": "#%%\n"
    }
   }
  },
  {
   "cell_type": "code",
   "execution_count": 54,
   "outputs": [
    {
     "name": "stderr",
     "output_type": "stream",
     "text": [
      "/var/folders/tp/b6czj_6x4q3f4qhdb47cj5d00000gp/T/ipykernel_1849/1961306567.py:1: SettingWithCopyWarning: \n",
      "A value is trying to be set on a copy of a slice from a DataFrame.\n",
      "Try using .loc[row_indexer,col_indexer] = value instead\n",
      "\n",
      "See the caveats in the documentation: https://pandas.pydata.org/pandas-docs/stable/user_guide/indexing.html#returning-a-view-versus-a-copy\n",
      "  df[\"listing_id\"] = df[\"listing_id\"].astype(str)\n"
     ]
    },
    {
     "ename": "ProvisionedThroughputExceededException",
     "evalue": "An error occurred (ProvisionedThroughputExceededException) when calling the BatchWriteItem operation (reached max retries: 9): The level of configured provisioned throughput for the table was exceeded. Consider increasing your provisioning level with the UpdateTable API.",
     "output_type": "error",
     "traceback": [
      "\u001B[0;31m---------------------------------------------------------------------------\u001B[0m",
      "\u001B[0;31mProvisionedThroughputExceededException\u001B[0m    Traceback (most recent call last)",
      "Cell \u001B[0;32mIn [54], line 2\u001B[0m\n\u001B[1;32m      1\u001B[0m df[\u001B[38;5;124m\"\u001B[39m\u001B[38;5;124mlisting_id\u001B[39m\u001B[38;5;124m\"\u001B[39m] \u001B[38;5;241m=\u001B[39m df[\u001B[38;5;124m\"\u001B[39m\u001B[38;5;124mlisting_id\u001B[39m\u001B[38;5;124m\"\u001B[39m]\u001B[38;5;241m.\u001B[39mastype(\u001B[38;5;28mstr\u001B[39m)\n\u001B[0;32m----> 2\u001B[0m \u001B[43mput_df\u001B[49m\u001B[43m(\u001B[49m\u001B[43mdf\u001B[49m\u001B[43m,\u001B[49m\u001B[43m \u001B[49m\u001B[43mtable\u001B[49m\u001B[38;5;241;43m=\u001B[39;49m\u001B[38;5;124;43m\"\u001B[39;49m\u001B[38;5;124;43mtmp_airbnb\u001B[39;49m\u001B[38;5;124;43m\"\u001B[39;49m\u001B[43m)\u001B[49m\n",
      "File \u001B[0;32m~/Desktop/git/dashboards/aws-python-scheduled-cron-project/.venv/lib/python3.10/site-packages/dynamo_pandas/dynamo_pandas.py:215\u001B[0m, in \u001B[0;36mput_df\u001B[0;34m(df, table, boto3_kwargs)\u001B[0m\n\u001B[1;32m    181\u001B[0m \u001B[38;5;28;01mdef\u001B[39;00m \u001B[38;5;21mput_df\u001B[39m(df, \u001B[38;5;241m*\u001B[39m, table, boto3_kwargs\u001B[38;5;241m=\u001B[39m{}):\n\u001B[1;32m    182\u001B[0m     \u001B[38;5;124;03m\"\"\"Put rows of a dataframe as items into a table. If the item(s) do not exist in the\u001B[39;00m\n\u001B[1;32m    183\u001B[0m \u001B[38;5;124;03m    table they are created, otherwise the existing items are replaced with the new ones.\u001B[39;00m\n\u001B[1;32m    184\u001B[0m \n\u001B[0;32m   (...)\u001B[0m\n\u001B[1;32m    213\u001B[0m \u001B[38;5;124;03m    >>> put_df(players_df, table=\"players\")\u001B[39;00m\n\u001B[1;32m    214\u001B[0m \u001B[38;5;124;03m    \"\"\"\u001B[39;00m  \u001B[38;5;66;03m# noqa: E501\u001B[39;00m\n\u001B[0;32m--> 215\u001B[0m     \u001B[43mput_items\u001B[49m\u001B[43m(\u001B[49m\u001B[43mitems\u001B[49m\u001B[38;5;241;43m=\u001B[39;49m\u001B[43m_to_items\u001B[49m\u001B[43m(\u001B[49m\u001B[43mdf\u001B[49m\u001B[43m)\u001B[49m\u001B[43m,\u001B[49m\u001B[43m \u001B[49m\u001B[43mtable\u001B[49m\u001B[38;5;241;43m=\u001B[39;49m\u001B[43mtable\u001B[49m\u001B[43m,\u001B[49m\u001B[43m \u001B[49m\u001B[43mboto3_kwargs\u001B[49m\u001B[38;5;241;43m=\u001B[39;49m\u001B[43mboto3_kwargs\u001B[49m\u001B[43m)\u001B[49m\n",
      "File \u001B[0;32m~/Desktop/git/dashboards/aws-python-scheduled-cron-project/.venv/lib/python3.10/site-packages/dynamo_pandas/transactions/transactions.py:339\u001B[0m, in \u001B[0;36mput_items\u001B[0;34m(items, table, boto3_kwargs)\u001B[0m\n\u001B[1;32m    336\u001B[0m batch_items \u001B[38;5;241m=\u001B[39m items_to_process[:batch_size]\n\u001B[1;32m    337\u001B[0m items_to_process \u001B[38;5;241m=\u001B[39m items_to_process[batch_size:]\n\u001B[0;32m--> 339\u001B[0m unprocessed_items \u001B[38;5;241m=\u001B[39m \u001B[43m_put_items\u001B[49m\u001B[43m(\u001B[49m\u001B[43mbatch_items\u001B[49m\u001B[43m,\u001B[49m\u001B[43m \u001B[49m\u001B[43mtable\u001B[49m\u001B[43m,\u001B[49m\u001B[43m \u001B[49m\u001B[43mboto3_kwargs\u001B[49m\u001B[43m)\u001B[49m\n\u001B[1;32m    341\u001B[0m \u001B[38;5;28;01mif\u001B[39;00m \u001B[38;5;28mlen\u001B[39m(unprocessed_items) \u001B[38;5;241m>\u001B[39m batch_size \u001B[38;5;241m/\u001B[39m\u001B[38;5;241m/\u001B[39m \u001B[38;5;241m2\u001B[39m:\n\u001B[1;32m    342\u001B[0m     batch_size \u001B[38;5;241m=\u001B[39m \u001B[38;5;28mmax\u001B[39m(batch_size \u001B[38;5;241m/\u001B[39m\u001B[38;5;241m/\u001B[39m \u001B[38;5;241m2\u001B[39m, \u001B[38;5;241m1\u001B[39m)\n",
      "File \u001B[0;32m~/Desktop/git/dashboards/aws-python-scheduled-cron-project/.venv/lib/python3.10/site-packages/dynamo_pandas/transactions/transactions.py:282\u001B[0m, in \u001B[0;36m_put_items\u001B[0;34m(items, table, boto3_kwargs)\u001B[0m\n\u001B[1;32m    278\u001B[0m \u001B[38;5;124;03m\"\"\"Adapter function to format the items, call the client batch_write_item function\u001B[39;00m\n\u001B[1;32m    279\u001B[0m \u001B[38;5;124;03mand return the unprocessed items (if any) in the format they were provided.\"\"\"\u001B[39;00m\n\u001B[1;32m    280\u001B[0m client \u001B[38;5;241m=\u001B[39m boto3\u001B[38;5;241m.\u001B[39mclient(\u001B[38;5;124m\"\u001B[39m\u001B[38;5;124mdynamodb\u001B[39m\u001B[38;5;124m\"\u001B[39m, \u001B[38;5;241m*\u001B[39m\u001B[38;5;241m*\u001B[39mboto3_kwargs)\n\u001B[0;32m--> 282\u001B[0m response \u001B[38;5;241m=\u001B[39m \u001B[43mclient\u001B[49m\u001B[38;5;241;43m.\u001B[39;49m\u001B[43mbatch_write_item\u001B[49m\u001B[43m(\u001B[49m\n\u001B[1;32m    283\u001B[0m \u001B[43m    \u001B[49m\u001B[43mRequestItems\u001B[49m\u001B[38;5;241;43m=\u001B[39;49m\u001B[43m{\u001B[49m\u001B[43mtable\u001B[49m\u001B[43m:\u001B[49m\u001B[43m \u001B[49m\u001B[43m[\u001B[49m\u001B[43m{\u001B[49m\u001B[38;5;124;43m\"\u001B[39;49m\u001B[38;5;124;43mPutRequest\u001B[39;49m\u001B[38;5;124;43m\"\u001B[39;49m\u001B[43m:\u001B[49m\u001B[43m \u001B[49m\u001B[43m{\u001B[49m\u001B[38;5;124;43m\"\u001B[39;49m\u001B[38;5;124;43mItem\u001B[39;49m\u001B[38;5;124;43m\"\u001B[39;49m\u001B[43m:\u001B[49m\u001B[43m \u001B[49m\u001B[43mitem\u001B[49m\u001B[43m}\u001B[49m\u001B[43m}\u001B[49m\u001B[43m \u001B[49m\u001B[38;5;28;43;01mfor\u001B[39;49;00m\u001B[43m \u001B[49m\u001B[43mitem\u001B[49m\u001B[43m \u001B[49m\u001B[38;5;129;43;01min\u001B[39;49;00m\u001B[43m \u001B[49m\u001B[43mitems\u001B[49m\u001B[43m]\u001B[49m\u001B[43m}\u001B[49m\n\u001B[1;32m    284\u001B[0m \u001B[43m\u001B[49m\u001B[43m)\u001B[49m\n\u001B[1;32m    286\u001B[0m \u001B[38;5;28;01mif\u001B[39;00m response[\u001B[38;5;124m\"\u001B[39m\u001B[38;5;124mUnprocessedItems\u001B[39m\u001B[38;5;124m\"\u001B[39m] \u001B[38;5;241m!=\u001B[39m {}:\n\u001B[1;32m    287\u001B[0m     \u001B[38;5;28;01mreturn\u001B[39;00m [\n\u001B[1;32m    288\u001B[0m         item[\u001B[38;5;124m\"\u001B[39m\u001B[38;5;124mPutRequest\u001B[39m\u001B[38;5;124m\"\u001B[39m][\u001B[38;5;124m\"\u001B[39m\u001B[38;5;124mItem\u001B[39m\u001B[38;5;124m\"\u001B[39m] \u001B[38;5;28;01mfor\u001B[39;00m item \u001B[38;5;129;01min\u001B[39;00m response[\u001B[38;5;124m\"\u001B[39m\u001B[38;5;124mUnprocessedItems\u001B[39m\u001B[38;5;124m\"\u001B[39m][table]\n\u001B[1;32m    289\u001B[0m     ]\n",
      "File \u001B[0;32m~/Desktop/git/dashboards/aws-python-scheduled-cron-project/.venv/lib/python3.10/site-packages/botocore/client.py:530\u001B[0m, in \u001B[0;36mClientCreator._create_api_method.<locals>._api_call\u001B[0;34m(self, *args, **kwargs)\u001B[0m\n\u001B[1;32m    526\u001B[0m     \u001B[38;5;28;01mraise\u001B[39;00m \u001B[38;5;167;01mTypeError\u001B[39;00m(\n\u001B[1;32m    527\u001B[0m         \u001B[38;5;124mf\u001B[39m\u001B[38;5;124m\"\u001B[39m\u001B[38;5;132;01m{\u001B[39;00mpy_operation_name\u001B[38;5;132;01m}\u001B[39;00m\u001B[38;5;124m() only accepts keyword arguments.\u001B[39m\u001B[38;5;124m\"\u001B[39m\n\u001B[1;32m    528\u001B[0m     )\n\u001B[1;32m    529\u001B[0m \u001B[38;5;66;03m# The \"self\" in this scope is referring to the BaseClient.\u001B[39;00m\n\u001B[0;32m--> 530\u001B[0m \u001B[38;5;28;01mreturn\u001B[39;00m \u001B[38;5;28;43mself\u001B[39;49m\u001B[38;5;241;43m.\u001B[39;49m\u001B[43m_make_api_call\u001B[49m\u001B[43m(\u001B[49m\u001B[43moperation_name\u001B[49m\u001B[43m,\u001B[49m\u001B[43m \u001B[49m\u001B[43mkwargs\u001B[49m\u001B[43m)\u001B[49m\n",
      "File \u001B[0;32m~/Desktop/git/dashboards/aws-python-scheduled-cron-project/.venv/lib/python3.10/site-packages/botocore/client.py:960\u001B[0m, in \u001B[0;36mBaseClient._make_api_call\u001B[0;34m(self, operation_name, api_params)\u001B[0m\n\u001B[1;32m    958\u001B[0m     error_code \u001B[38;5;241m=\u001B[39m parsed_response\u001B[38;5;241m.\u001B[39mget(\u001B[38;5;124m\"\u001B[39m\u001B[38;5;124mError\u001B[39m\u001B[38;5;124m\"\u001B[39m, {})\u001B[38;5;241m.\u001B[39mget(\u001B[38;5;124m\"\u001B[39m\u001B[38;5;124mCode\u001B[39m\u001B[38;5;124m\"\u001B[39m)\n\u001B[1;32m    959\u001B[0m     error_class \u001B[38;5;241m=\u001B[39m \u001B[38;5;28mself\u001B[39m\u001B[38;5;241m.\u001B[39mexceptions\u001B[38;5;241m.\u001B[39mfrom_code(error_code)\n\u001B[0;32m--> 960\u001B[0m     \u001B[38;5;28;01mraise\u001B[39;00m error_class(parsed_response, operation_name)\n\u001B[1;32m    961\u001B[0m \u001B[38;5;28;01melse\u001B[39;00m:\n\u001B[1;32m    962\u001B[0m     \u001B[38;5;28;01mreturn\u001B[39;00m parsed_response\n",
      "\u001B[0;31mProvisionedThroughputExceededException\u001B[0m: An error occurred (ProvisionedThroughputExceededException) when calling the BatchWriteItem operation (reached max retries: 9): The level of configured provisioned throughput for the table was exceeded. Consider increasing your provisioning level with the UpdateTable API."
     ]
    }
   ],
   "source": [
    "df[\"listing_id\"] = df[\"listing_id\"].astype(str)\n",
    "put_df(df, table=\"tmp_airbnb\")"
   ],
   "metadata": {
    "collapsed": false,
    "pycharm": {
     "name": "#%%\n"
    }
   }
  },
  {
   "cell_type": "code",
   "execution_count": 2,
   "outputs": [],
   "source": [
    "import boto3\n",
    "\n",
    "client = boto3.client('lambda')\n",
    "\n",
    "response = client.list_functions(\n",
    "    # MasterRegion='string',\n",
    "    #FunctionVersion='ALL',\n",
    "    #Marker='string',\n",
    "    #MaxItems=123\n",
    ")\n"
   ],
   "metadata": {
    "collapsed": false,
    "pycharm": {
     "name": "#%%\n"
    }
   }
  },
  {
   "cell_type": "code",
   "execution_count": 3,
   "outputs": [
    {
     "data": {
      "text/plain": "{'ResponseMetadata': {'RequestId': '93fce84d-bb1c-4ae0-b1c6-0ca990fe0baf',\n  'HTTPStatusCode': 200,\n  'HTTPHeaders': {'date': 'Thu, 01 Dec 2022 14:44:37 GMT',\n   'content-type': 'application/json',\n   'content-length': '8098',\n   'connection': 'keep-alive',\n   'x-amzn-requestid': '93fce84d-bb1c-4ae0-b1c6-0ca990fe0baf'},\n  'RetryAttempts': 0},\n 'Functions': [{'FunctionName': 'front-stage-api',\n   'FunctionArn': 'arn:aws:lambda:eu-central-1:958783559395:function:front-stage-api',\n   'Runtime': 'python3.9',\n   'Role': 'arn:aws:iam::958783559395:role/front-stage-eu-central-1-lambdaRole',\n   'Handler': 'wsgi_handler.handler',\n   'CodeSize': 41407013,\n   'Description': '',\n   'Timeout': 6,\n   'MemorySize': 1024,\n   'LastModified': '2022-11-29T16:17:27.591+0000',\n   'CodeSha256': 'gB2DnsuC0iUd9HdHcHH928o2TxYHVENqIphvvIKB+CE=',\n   'Version': '$LATEST',\n   'TracingConfig': {'Mode': 'PassThrough'},\n   'RevisionId': '51d02d66-d205-4a64-a3f0-a8e1db9c988f',\n   'PackageType': 'Zip',\n   'Architectures': ['x86_64'],\n   'EphemeralStorage': {'Size': 512}},\n  {'FunctionName': 'dashboards-front-dev-api',\n   'FunctionArn': 'arn:aws:lambda:eu-central-1:958783559395:function:dashboards-front-dev-api',\n   'Runtime': 'python3.9',\n   'Role': 'arn:aws:iam::958783559395:role/dashboards-front-dev-eu-central-1-lambdaRole',\n   'Handler': 's_api.handler',\n   'CodeSize': 254479,\n   'Description': '',\n   'Timeout': 6,\n   'MemorySize': 1024,\n   'LastModified': '2022-11-29T15:09:03.000+0000',\n   'CodeSha256': '/sFfxd/URM7doigKyqyDGYZRfoij4EcOh3rX6Vh6qtY=',\n   'Version': '$LATEST',\n   'TracingConfig': {'Mode': 'PassThrough'},\n   'RevisionId': '6efff345-66fb-449b-a15e-d503755e2e2d',\n   'PackageType': 'Zip',\n   'Architectures': ['x86_64'],\n   'EphemeralStorage': {'Size': 512}},\n  {'FunctionName': 'aws-python-flask-api-dev-api',\n   'FunctionArn': 'arn:aws:lambda:eu-central-1:958783559395:function:aws-python-flask-api-dev-api',\n   'Runtime': 'python3.9',\n   'Role': 'arn:aws:iam::958783559395:role/aws-python-flask-api-dev-eu-central-1-lambdaRole',\n   'Handler': 'wsgi_handler.handler',\n   'CodeSize': 164288,\n   'Description': '',\n   'Timeout': 6,\n   'MemorySize': 1024,\n   'LastModified': '2022-11-29T18:30:16.000+0000',\n   'CodeSha256': 'hjKSKk2+xP5MHm5PHQU2t4OcnvzrXL7Cmgih7/SUiug=',\n   'Version': '$LATEST',\n   'TracingConfig': {'Mode': 'PassThrough'},\n   'RevisionId': 'ffd821b7-f6ed-440d-9116-90877b3c02b3',\n   'PackageType': 'Zip',\n   'Architectures': ['x86_64'],\n   'EphemeralStorage': {'Size': 512}},\n  {'FunctionName': 'worker-dev-cronHandler',\n   'FunctionArn': 'arn:aws:lambda:eu-central-1:958783559395:function:worker-dev-cronHandler',\n   'Runtime': 'python3.9',\n   'Role': 'arn:aws:iam::958783559395:role/worker-dev-eu-central-1-lambdaRole',\n   'Handler': 's_cronHandler.handler',\n   'CodeSize': 426747,\n   'Description': '',\n   'Timeout': 900,\n   'MemorySize': 1024,\n   'LastModified': '2022-12-01T14:34:18.000+0000',\n   'CodeSha256': 'uVkjXwriy16jg4H4o+x3LBF99vh/61aPEVN5dRBQMCc=',\n   'Version': '$LATEST',\n   'Environment': {'Variables': {'AWS_S3_BUCKET': 'dashboards-data-bucket-khk3rkkds'}},\n   'TracingConfig': {'Mode': 'PassThrough'},\n   'RevisionId': '1e963ce2-1258-4946-b4c2-5316cfbfad14',\n   'Layers': [{'Arn': 'arn:aws:lambda:eu-central-1:958783559395:layer:worker-dev-python-requirements:3',\n     'CodeSize': 50724254}],\n   'PackageType': 'Zip',\n   'Architectures': ['x86_64'],\n   'EphemeralStorage': {'Size': 512}},\n  {'FunctionName': 'hello-world-api-dev-hello_world',\n   'FunctionArn': 'arn:aws:lambda:eu-central-1:958783559395:function:hello-world-api-dev-hello_world',\n   'Role': 'arn:aws:iam::958783559395:role/hello-world-dev-eu-central-1-lambdaRole',\n   'CodeSize': 0,\n   'Description': 'hello-world-api-dev-hello_world',\n   'Timeout': 30,\n   'MemorySize': 1024,\n   'LastModified': '2022-11-29T18:35:29.865+0000',\n   'CodeSha256': 'b9256d8c2f6a8638f59b0cdac7986ec039011fa64d2c07d7b29fc234b3efc2df',\n   'Version': '$LATEST',\n   'Environment': {'Variables': {'STAGE': 'dev', 'LOG_LEVEL': 'INFO'}},\n   'TracingConfig': {'Mode': 'PassThrough'},\n   'RevisionId': '2c9b1ae7-504f-4266-8ad0-c4180fb52523',\n   'PackageType': 'Image',\n   'Architectures': ['x86_64'],\n   'EphemeralStorage': {'Size': 512}},\n  {'FunctionName': 'front-dev-api',\n   'FunctionArn': 'arn:aws:lambda:eu-central-1:958783559395:function:front-dev-api',\n   'Runtime': 'python3.9',\n   'Role': 'arn:aws:iam::958783559395:role/front-dev-eu-central-1-lambdaRole',\n   'Handler': 's_api.handler',\n   'CodeSize': 260196,\n   'Description': '',\n   'Timeout': 6,\n   'MemorySize': 1024,\n   'LastModified': '2022-12-01T13:52:10.000+0000',\n   'CodeSha256': 'DZcz9AzRkAsJBAcRW4bhmI/xPXPZQlXqfMKolGMBisM=',\n   'Version': '$LATEST',\n   'TracingConfig': {'Mode': 'PassThrough'},\n   'RevisionId': 'b2c2b376-be60-4d32-b850-673af075ad4b',\n   'Layers': [{'Arn': 'arn:aws:lambda:eu-central-1:958783559395:layer:front-dev-python-requirements:5',\n     'CodeSize': 41584165}],\n   'PackageType': 'Zip',\n   'Architectures': ['x86_64'],\n   'EphemeralStorage': {'Size': 512}},\n  {'FunctionName': 'worker-stage-cronHandler',\n   'FunctionArn': 'arn:aws:lambda:eu-central-1:958783559395:function:worker-stage-cronHandler',\n   'Runtime': 'python3.9',\n   'Role': 'arn:aws:iam::958783559395:role/worker-stage-eu-central-1-lambdaRole',\n   'Handler': 'handler.run',\n   'CodeSize': 337143,\n   'Description': '',\n   'Timeout': 900,\n   'MemorySize': 1024,\n   'LastModified': '2022-11-29T16:22:10.734+0000',\n   'CodeSha256': 'aYdIe4v9T0SJobZbEntmmFdPknSNp1Ar3LHhQIr6Ei0=',\n   'Version': '$LATEST',\n   'Environment': {'Variables': {'AWS_S3_BUCKET': 'dashboards-data-bucket-stage'}},\n   'TracingConfig': {'Mode': 'PassThrough'},\n   'RevisionId': 'e39dc1ca-32e9-412f-a343-9ff6434880c3',\n   'Layers': [{'Arn': 'arn:aws:lambda:eu-central-1:958783559395:layer:worker-stage-python-requirements:1',\n     'CodeSize': 50721993}],\n   'PackageType': 'Zip',\n   'Architectures': ['x86_64'],\n   'EphemeralStorage': {'Size': 512}}]}"
     },
     "execution_count": 3,
     "metadata": {},
     "output_type": "execute_result"
    }
   ],
   "source": [
    "response\n"
   ],
   "metadata": {
    "collapsed": false,
    "pycharm": {
     "name": "#%%\n"
    }
   }
  },
  {
   "cell_type": "code",
   "execution_count": 14,
   "outputs": [],
   "source": [
    "r = client.invoke(\n",
    "        FunctionName=\"worker-dev-cronHandler\",\n",
    "        # InvocationType=\"RequestResponse\",\n",
    "        #Payload=payloadBytesArr\n",
    "    )\n"
   ],
   "metadata": {
    "collapsed": false,
    "pycharm": {
     "name": "#%%\n"
    }
   }
  },
  {
   "cell_type": "code",
   "execution_count": 15,
   "outputs": [
    {
     "data": {
      "text/plain": "{'ResponseMetadata': {'RequestId': '2b54da7a-5a71-4008-b756-2d7fa8d74517',\n  'HTTPStatusCode': 200,\n  'HTTPHeaders': {'date': 'Thu, 01 Dec 2022 14:57:59 GMT',\n   'content-type': 'application/json',\n   'content-length': '4',\n   'connection': 'keep-alive',\n   'x-amzn-requestid': '2b54da7a-5a71-4008-b756-2d7fa8d74517',\n   'x-amzn-remapped-content-length': '0',\n   'x-amz-executed-version': '$LATEST',\n   'x-amzn-trace-id': 'root=1-6388c0f1-680ac4b36f9217b441a3a7c0;sampled=0'},\n  'RetryAttempts': 1},\n 'StatusCode': 200,\n 'ExecutedVersion': '$LATEST',\n 'Payload': <botocore.response.StreamingBody at 0x11b1f37f0>}"
     },
     "execution_count": 15,
     "metadata": {},
     "output_type": "execute_result"
    }
   ],
   "source": [
    "r\n"
   ],
   "metadata": {
    "collapsed": false,
    "pycharm": {
     "name": "#%%\n"
    }
   }
  },
  {
   "cell_type": "code",
   "execution_count": 18,
   "outputs": [
    {
     "data": {
      "text/plain": "b''"
     },
     "execution_count": 18,
     "metadata": {},
     "output_type": "execute_result"
    }
   ],
   "source": [
    "payload = r[\"Payload\"].read()\n",
    "payload"
   ],
   "metadata": {
    "collapsed": false,
    "pycharm": {
     "name": "#%%\n"
    }
   }
  },
  {
   "cell_type": "code",
   "execution_count": null,
   "outputs": [],
   "source": [
    "{'ResponseMetadata': {'RequestId': '987770e7-0786-475a-8ff7-e4c391863919',\n",
    "  'HTTPStatusCode': 200,\n",
    "  'HTTPHeaders': {'date': 'Thu, 01 Dec 2022 14:51:42 GMT',\n",
    "   'content-type': 'application/json',\n",
    "   'content-length': '371',\n",
    "   'connection': 'keep-alive',\n",
    "   'x-amzn-requestid': '987770e7-0786-475a-8ff7-e4c391863919',\n",
    "   'x-amz-function-error': 'Unhandled',\n",
    "   'x-amzn-remapped-content-length': '0',\n",
    "   'x-amz-executed-version': '$LATEST',\n",
    "   'x-amzn-trace-id': 'root=1-6388bf7b-2b656c1c2fbe603a3a07f98f;sampled=0'},\n",
    "  'RetryAttempts': 0},\n",
    " 'StatusCode': 200,\n",
    " 'FunctionError': 'Unhandled',\n",
    " 'ExecutedVersion': '$LATEST',\n",
    " 'Payload': <botocore.response.StreamingBody at 0x11b1f23e0>}\n"
   ],
   "metadata": {
    "collapsed": false,
    "pycharm": {
     "name": "#%%\n"
    }
   }
  }
 ],
 "metadata": {
  "kernelspec": {
   "display_name": "Python 3",
   "language": "python",
   "name": "python3"
  },
  "language_info": {
   "codemirror_mode": {
    "name": "ipython",
    "version": 2
   },
   "file_extension": ".py",
   "mimetype": "text/x-python",
   "name": "python",
   "nbconvert_exporter": "python",
   "pygments_lexer": "ipython2",
   "version": "2.7.6"
  }
 },
 "nbformat": 4,
 "nbformat_minor": 0
}
