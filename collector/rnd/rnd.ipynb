{
 "cells": [
  {
   "cell_type": "code",
   "execution_count": null,
   "metadata": {
    "collapsed": true,
    "pycharm": {
     "name": "#%%\n"
    }
   },
   "outputs": [],
   "source": []
  },
  {
   "cell_type": "code",
   "execution_count": 19,
   "outputs": [
    {
     "name": "stdout",
     "output_type": "stream",
     "text": [
      "249\n"
     ]
    }
   ],
   "source": [
    "import email\n",
    "\n",
    "import requests\n",
    "\n",
    "headers_str = \"\"\"Host: www.linkedin.com\n",
    "User-Agent: Mozilla/5.0 (Macintosh; Intel Mac OS X 10.15; rv:109.0) Gecko/20100101 Firefox/110.0\n",
    "Accept: application/vnd.linkedin.normalized+json+2.1\n",
    "Accept-Language: en-GB,en;q=0.5\n",
    "Accept-Encoding: gzip, deflate, br\n",
    "x-li-lang: en_US\n",
    "x-li-track: {\"clientVersion\":\"1.11.9694\",\"mpVersion\":\"1.11.9694\",\"osName\":\"web\",\"timezoneOffset\":2,\"timezone\":\"Africa/Cairo\",\"deviceFormFactor\":\"DESKTOP\",\"mpName\":\"voyager-web\",\"displayDensity\":2,\"displayWidth\":3584,\"displayHeight\":2240}\n",
    "x-li-page-instance: urn:li:page:d_flagship3_search_srp_jobs;T+u52gmKS4qVTSfmKl3ixQ==\n",
    "csrf-token: ajax:0077679807149573949\n",
    "x-restli-protocol-version: 2.0.0\n",
    "x-li-pem-metadata: Voyager - Careers=jobs-search-results-prefetch\n",
    "x-li-prefetch: 1\n",
    "Connection: keep-alive\n",
    "Referer: https://www.linkedin.com/jobs/search/?currentJobId=3473878114&geoId=92000000&keywords=%22python%22%20AND%20(%22engineer%22%20OR%20%22developer%22)%20AND%20%22wargaming%22&location=Worldwide&refresh=true\n",
    "Cookie: bcookie=\"v=2&48e72183-606b-4673-800a-060946052b6b\"; bscookie=\"v=1&20220610113426f54eeb70-8b8f-4e48-877b-349bd1f12820AQFEwr1JAaol5jHzpnjE7WbUH7FXPqPx\"; G_ENABLED_IDPS=google; li_theme=light; li_theme_set=app; AMCV_14215E3D5995C57C0A495C55%40AdobeOrg=-637568504%7CMCIDTS%7C19410%7CMCMID%7C08502696398676110163816274493406552130%7CMCAAMLH-1677576284%7C6%7CMCAAMB-1677576284%7C6G1ynYcLPuiQxYZrsz_pkqfLG9yMXBpb2zX5dvJdYQJzPXImdj0y%7CMCOPTOUT-1676978684s%7CNONE%7CMCCIDH%7C689506766%7CvVersion%7C5.1.1; li_sugr=a078198d-60e9-4577-a05c-da3e288341a3; li_mc=MTsyMTsxNjc3NTc3NDUxOzE7MDIxVmWKGGdbkmY72rwr1SAK0XnbSfLS5PmPRByZ4LR922g=; _gcl_au=1.1.1772354330.1662407560; aam_uuid=07937380249088338593763054709331678089; gpv_pn=developer.linkedin.com%2Fproduct-catalog%2Ftalent; s_ips=984; s_tp=1448; s_tslv=1676679423230; li_rm=AQEcn91DirAU8QAAAYSFhXvOu8OsynPXZVxmeMGu1IBZltyabA35hug4dmed6xHWPI8jBkIPNSGk_Zjgx5YGZ79o11EpJc4IdqJnAPK6SFE6zYdTxJ5kBtoJ; visit=v=1&M; li_alerts=e30=; timezone=Africa/Cairo; UserMatchHistory=AQLbsfEZRx8lVQAAAYaXaKGTn16XQMZZo1uX1PL7B_-BxM3-c26dcXCBw2HmQamYX_OMph3a2IyYl1zrthjMV9oTH6uMltI_B4Y5t5imRJIcHQip8TjlKayzyd3Aayl7q0xz3IAVDekNwX8R9fzQloOME46CkY-M6YlXDkxQeSZ_Au1hGYIpo0pR6kLlpX8DvdVS_Xi1in3Bcfcg0orbgDJZicnAeS73TL6fBAco5vdEV6bJa2u7ffRCYsEWUZoF_DYFrW8fY9vmH4lGh7EeHI9erbByQI8OPYjfYUY; AnalyticsSyncHistory=AQLv18ytdcgyawAAAYZzSwKocuFP0XvM4CCxwh_cEIF1Ssu5_WkQ92lyJvO2630BPvPrc8Kr-RYoIjem4DD1SA; lms_ads=AQF2YG1ankZ2mQAAAYZzSwcMp7t5ZfnxuoMneKFZRwke2YAMEX-7IjEFR7CUYxvbrzB9eFHHe8Uu97QapB4_XgjYgXG50JIt; lms_analytics=AQF2YG1ankZ2mQAAAYZzSwcMp7t5ZfnxuoMneKFZRwke2YAMEX-7IjEFR7CUYxvbrzB9eFHHe8Uu97QapB4_XgjYgXG50JIt; mbox=session#82ff7fc276c84d4a80d42e82b2bcb16a#1676681284|PC#82ff7fc276c84d4a80d42e82b2bcb16a.37_0#1692231424; s_fid=595CA273DC3D1A0D-0789B4E083A8C6B5; AMCVS_14215E3D5995C57C0A495C55%40AdobeOrg=1; sdsc=22%3A1%2C1677577520058%7EJAPP%2C0tJIAm%2FeVLhtWEFX3%2Fo7PQGFxbn4%3D; PLAY_SESSION=eyJhbGciOiJIUzI1NiJ9.eyJkYXRhIjp7InNlc3Npb25faWQiOiIyNzQ2ZGRhMS03N2U5LTQyM2UtODA4My03OTVhNTU0NmIxODF8MTY3NjI4Nzg3NCIsImFsbG93bGlzdCI6Int9IiwicmVjZW50bHktc2VhcmNoZWQiOiIiLCJyZWZlcnJhbC11cmwiOiJodHRwczovL21lZGl1bS5jb20vQEJleW9uZHRoZUh5cGUvJUQwJUIzJUQwJUI0JUQwJUI1LSVEMCVCOCVEMSU4MSVEMCVCQSVEMCVCMCVEMSU4MiVEMSU4Qy0lRDAlQjQlRDAlQjAlRDAlQkQlRDAlQkQlRDElOEIlRDAlQjUtJUQwJUJGJUQwJUJFLSVEMCVCNyVEMCVCMCVEMSU4MCVEMCVCRiVEMCVCQiVEMCVCMCVEMSU4MiVEMCVCNS1hN2Q3NGI1Zjg4NmMiLCJhaWQiOiIiLCJSTlQtaWQiOiJ8MCIsInJlY2VudGx5LXZpZXdlZCI6IjEzNDc0NTh8NTIxODMzfDUwNzU3MXw1MjA2Nzl8NTIzMTM2IiwiQ1BULWlkIjoiMllcdTAwMTfDvDUwbXxcIlx1MDAwNcO4w5MywrrCu3ciLCJmbG93VHJhY2tpbmdJZCI6Im9mQTBycko0U0NtNHBoTFU0K2ExSnc9PSIsImV4cGVyaWVuY2UiOiJlbnRpdHkiLCJpc19uYXRpdmUiOiJmYWxzZSIsInRyayI6IiJ9LCJuYmYiOjE2NzY5NzE0ODAsImlhdCI6MTY3Njk3MTQ4MH0.DeqHcBsdP5M10qCq2E5Q_fZtjP3nW2q1x6fWBiImujQ; PLAY_LANG=en; lil-lang=en_US; at_check=true; s_plt=8.97; s_pltp=developer.linkedin.com%2Fproduct-catalog%2Ftalent; s_ppv=developer.linkedin.com%2Fproduct-catalog%2Ftalent%2C100%2C68%2C1448%2C1%2C1; s_cc=true; lidc=\"b=VB04:s=V:r=V:a=V:p=V:g=4194:u=202:x=1:i=1677576849:t=1677585644:v=2:sig=AQFCQ-HWgij5rDbGFTNxelyzZH6NjB2V\"; li_g_recent_logout=v=1&true; JSESSIONID=\"ajax:0077679807149573949\"; lang=v=2&lang=en-us; li_at=AQEDAQTecEwB1FkzAAABhpdfR_wAAAGGu2vL_E0AJLKgENb9IHGFFB-jpkJc9JXPuZDieZ-lMCY3aFmY4lHrXf8dPR3oh5lrd6sA_klZwkvApQqXKTzcyYoUUpA-lA-0XASLa0AzmI9rVgEeACenIgIL; liap=true\n",
    "Sec-Fetch-Dest: empty\n",
    "Sec-Fetch-Mode: cors\n",
    "Sec-Fetch-Site: same-origin\n",
    "Pragma: no-cache\n",
    "Cache-Control: no-cache\n",
    "TE: trailers\"\"\"\n",
    "\n",
    "headers = email.message_from_string(headers_str)\n",
    "\n",
    "url = \"https://www.linkedin.com/voyager/api/search/hits?decorationId=com.linkedin.voyager.deco.jserp.WebJobSearchHitWithSalary-25&count=25&filters=List(resultType-%3EJOBS)&keywords=python&origin=BLENDED_SEARCH_RESULT_CARD_NAVIGATION&q=jserpFilters&queryContext=List(primaryHitType-%3EJOBS,spellCorrectionEnabled-%3Etrue)&start=25&topNRequestedFlavors=List(HIDDEN_GEM,IN_NETWORK,SCHOOL_RECRUIT,COMPANY_RECRUIT,SALARY,JOB_SEEKER_QUALIFIED,PRE_SCREENING_QUESTIONS,SKILL_ASSESSMENTS,ACTIVELY_HIRING_COMPANY,TOP_APPLICANT)\"\n",
    "resp = requests.get(url=url, headers=headers)\n",
    "resp.raise_for_status()\n",
    "\n",
    "print(resp.json()[\"data\"][\"paging\"][\"total\"])\n",
    "\n"
   ],
   "metadata": {
    "collapsed": false,
    "pycharm": {
     "name": "#%%\n"
    }
   }
  },
  {
   "cell_type": "code",
   "execution_count": 17,
   "outputs": [
    {
     "ename": "HTTPError",
     "evalue": "403 Client Error: Forbidden for url: https://www.linkedin.com/voyager/api/search/hits?decorationId=com.linkedin.voyager.deco.jserp.WebJobSearchHitWithSalary-25&count=25&filters=List(locationFallback-%3EWorldwide,geoUrn-%3Eurn%3Ali%3Afs_geo%3A103644278,resultType-%3EJOBS)&keywords=%22python%22%20and%20%28%22develop%22%20OR%20%22engineer%22%29%29%20%20&origin=JOB_SEARCH_PAGE_SEARCH_BUTTON&q=jserpFilters&queryContext=List(primaryHitType-%3EJOBS,spellCorrectionEnabled-%3Etrue)&start=25&topNRequestedFlavors=List(HIDDEN_GEM,IN_NETWORK,SCHOOL_RECRUIT,COMPANY_RECRUIT,SALARY,JOB_SEEKER_QUALIFIED,PRE_SCREENING_QUESTIONS,SKILL_ASSESSMENTS,ACTIVELY_HIRING_COMPANY,TOP_APPLICANT)",
     "output_type": "error",
     "traceback": [
      "\u001B[0;31m---------------------------------------------------------------------------\u001B[0m",
      "\u001B[0;31mHTTPError\u001B[0m                                 Traceback (most recent call last)",
      "Cell \u001B[0;32mIn[17], line 54\u001B[0m\n\u001B[1;32m     51\u001B[0m \u001B[38;5;66;03m# url = \"https://www.linkedin.com/voyager/api/search/hits?decorationId=com.linkedin.voyager.deco.jserp.WebJobSearchHitWithSalary-25&count=25&filters=List(locationFallback-%3EWorldwide,resultType-%3EJOBS)&keywords=python&origin=JOB_SEARCH_PAGE_OTHER_ENTRY&q=jserpFilters&queryContext=List(primaryHitType-%3EJOBS,spellCorrectionEnabled-%3Etrue)&start=25&topNRequestedFlavors=List(HIDDEN_GEM,IN_NETWORK,SCHOOL_RECRUIT,COMPANY_RECRUIT,SALARY,JOB_SEEKER_QUALIFIED,PRE_SCREENING_QUESTIONS,SKILL_ASSESSMENTS,ACTIVELY_HIRING_COMPANY,TOP_APPLICANT)\"\u001B[39;00m\n\u001B[1;32m     53\u001B[0m resp \u001B[38;5;241m=\u001B[39m requests\u001B[38;5;241m.\u001B[39mget(url\u001B[38;5;241m=\u001B[39murl, headers\u001B[38;5;241m=\u001B[39mheaders)\n\u001B[0;32m---> 54\u001B[0m \u001B[43mresp\u001B[49m\u001B[38;5;241;43m.\u001B[39;49m\u001B[43mraise_for_status\u001B[49m\u001B[43m(\u001B[49m\u001B[43m)\u001B[49m\n\u001B[1;32m     56\u001B[0m data \u001B[38;5;241m=\u001B[39m resp\u001B[38;5;241m.\u001B[39mjson()\n\u001B[1;32m     57\u001B[0m \u001B[38;5;28;01mif\u001B[39;00m data:\n",
      "File \u001B[0;32m~/git/dashboards/collector/.venv/lib/python3.9/site-packages/requests/models.py:1021\u001B[0m, in \u001B[0;36mResponse.raise_for_status\u001B[0;34m(self)\u001B[0m\n\u001B[1;32m   1016\u001B[0m     http_error_msg \u001B[38;5;241m=\u001B[39m (\n\u001B[1;32m   1017\u001B[0m         \u001B[38;5;124mf\u001B[39m\u001B[38;5;124m\"\u001B[39m\u001B[38;5;132;01m{\u001B[39;00m\u001B[38;5;28mself\u001B[39m\u001B[38;5;241m.\u001B[39mstatus_code\u001B[38;5;132;01m}\u001B[39;00m\u001B[38;5;124m Server Error: \u001B[39m\u001B[38;5;132;01m{\u001B[39;00mreason\u001B[38;5;132;01m}\u001B[39;00m\u001B[38;5;124m for url: \u001B[39m\u001B[38;5;132;01m{\u001B[39;00m\u001B[38;5;28mself\u001B[39m\u001B[38;5;241m.\u001B[39murl\u001B[38;5;132;01m}\u001B[39;00m\u001B[38;5;124m\"\u001B[39m\n\u001B[1;32m   1018\u001B[0m     )\n\u001B[1;32m   1020\u001B[0m \u001B[38;5;28;01mif\u001B[39;00m http_error_msg:\n\u001B[0;32m-> 1021\u001B[0m     \u001B[38;5;28;01mraise\u001B[39;00m HTTPError(http_error_msg, response\u001B[38;5;241m=\u001B[39m\u001B[38;5;28mself\u001B[39m)\n",
      "\u001B[0;31mHTTPError\u001B[0m: 403 Client Error: Forbidden for url: https://www.linkedin.com/voyager/api/search/hits?decorationId=com.linkedin.voyager.deco.jserp.WebJobSearchHitWithSalary-25&count=25&filters=List(locationFallback-%3EWorldwide,geoUrn-%3Eurn%3Ali%3Afs_geo%3A103644278,resultType-%3EJOBS)&keywords=%22python%22%20and%20%28%22develop%22%20OR%20%22engineer%22%29%29%20%20&origin=JOB_SEARCH_PAGE_SEARCH_BUTTON&q=jserpFilters&queryContext=List(primaryHitType-%3EJOBS,spellCorrectionEnabled-%3Etrue)&start=25&topNRequestedFlavors=List(HIDDEN_GEM,IN_NETWORK,SCHOOL_RECRUIT,COMPANY_RECRUIT,SALARY,JOB_SEEKER_QUALIFIED,PRE_SCREENING_QUESTIONS,SKILL_ASSESSMENTS,ACTIVELY_HIRING_COMPANY,TOP_APPLICANT)"
     ]
    }
   ],
   "source": [
    "import email\n",
    "\n",
    "import requests\n",
    "# new\n",
    "headers_str = \"\"\"Host: www.linkedin.com\n",
    "User-Agent: Mozilla/5.0 (Macintosh; Intel Mac OS X 10.15; rv:109.0) Gecko/20100101 Firefox/110.0\n",
    "Accept: application/vnd.linkedin.normalized+json+2.1\n",
    "Accept-Language: en-GB,en;q=0.5\n",
    "Accept-Encoding: gzip, deflate, br\n",
    "x-li-lang: en_US\n",
    "x-li-track: {\"clientVersion\":\"1.11.9694\",\"mpVersion\":\"1.11.9694\",\"osName\":\"web\",\"timezoneOffset\":2,\"timezone\":\"Africa/Cairo\",\"deviceFormFactor\":\"DESKTOP\",\"mpName\":\"voyager-web\",\"displayDensity\":2,\"displayWidth\":3584,\"displayHeight\":2240}\n",
    "x-li-page-instance: urn:li:page:d_flagship3_search_srp_jobs;mp66Xn8SR9CJHwhZZdkUNQ==\n",
    "csrf-token: ajax:4464032676776232418\n",
    "x-restli-protocol-version: 2.0.0\n",
    "x-li-pem-metadata: Voyager - Careers=jobs-search-results-prefetch\n",
    "x-li-deco-include-micro-schema: true\n",
    "Connection: keep-alive\n",
    "Referer: https://www.linkedin.com/jobs/search/?currentJobId=3436493381&keywords=python\n",
    "Cookie: bcookie=\"v=2&48e72183-606b-4673-800a-060946052b6b\"; bscookie=\"v=1&20220610113426f54eeb70-8b8f-4e48-877b-349bd1f12820AQFEwr1JAaol5jHzpnjE7WbUH7FXPqPx\"; G_ENABLED_IDPS=google; li_theme=light; li_theme_set=app; AMCV_14215E3D5995C57C0A495C55%40AdobeOrg=-637568504%7CMCIDTS%7C19410%7CMCMID%7C08502696398676110163816274493406552130%7CMCAAMLH-1677576284%7C6%7CMCAAMB-1677576284%7C6G1ynYcLPuiQxYZrsz_pkqfLG9yMXBpb2zX5dvJdYQJzPXImdj0y%7CMCOPTOUT-1676978684s%7CNONE%7CMCCIDH%7C689506766%7CvVersion%7C5.1.1; li_sugr=a078198d-60e9-4577-a05c-da3e288341a3; li_mc=MTsyMTsxNjc3NTc1MjIyOzE7MDIxm1l2z8TncO6+BO4112qPhIFUkj1xEmcLfijkOWdTGbE=; _gcl_au=1.1.1772354330.1662407560; aam_uuid=07937380249088338593763054709331678089; gpv_pn=developer.linkedin.com%2Fproduct-catalog%2Ftalent; s_ips=984; s_tp=1448; s_tslv=1676679423230; li_rm=AQEcn91DirAU8QAAAYSFhXvOu8OsynPXZVxmeMGu1IBZltyabA35hug4dmed6xHWPI8jBkIPNSGk_Zjgx5YGZ79o11EpJc4IdqJnAPK6SFE6zYdTxJ5kBtoJ; visit=v=1&M; li_alerts=e30=; timezone=Africa/Cairo; UserMatchHistory=AQKcN5aHvFfFhgAAAYaXST2ePWnQzjSPVP8lN9NzxpX3GoQqHW-3FAT3U4KNAlUMrM4chANfaSwm5mLsT3zVfo5uaku07EpecPlCgtZdI73IznwGklZICSohfuqg9Olq8W4-nw7Cnpb8QPLZfMVxBGPQHh_S83zdMA5wDSZWs1gqEccvO9mxSA-_j2KnjzM0X-nybc1WeCBdTdffNowcr7W4Newsd6P3y_98HJNuNERbxS8AAGSUnpCq8YtuSFpBytnok4ZJzFOoWntCiba9GoTEWFVKmsKSlGoGEDE; AnalyticsSyncHistory=AQLv18ytdcgyawAAAYZzSwKocuFP0XvM4CCxwh_cEIF1Ssu5_WkQ92lyJvO2630BPvPrc8Kr-RYoIjem4DD1SA; lms_ads=AQF2YG1ankZ2mQAAAYZzSwcMp7t5ZfnxuoMneKFZRwke2YAMEX-7IjEFR7CUYxvbrzB9eFHHe8Uu97QapB4_XgjYgXG50JIt; lms_analytics=AQF2YG1ankZ2mQAAAYZzSwcMp7t5ZfnxuoMneKFZRwke2YAMEX-7IjEFR7CUYxvbrzB9eFHHe8Uu97QapB4_XgjYgXG50JIt; mbox=session#82ff7fc276c84d4a80d42e82b2bcb16a#1676681284|PC#82ff7fc276c84d4a80d42e82b2bcb16a.37_0#1692231424; s_fid=595CA273DC3D1A0D-0789B4E083A8C6B5; JSESSIONID=\"ajax:4464032676776232418\"; li_at=AQEDAQTecEwDHimfAAABhn01DYgAAAGGoUGRiE0AhUb9bVRA9Wegjn7yLyDY6E5rT7XKEtZOOdgqcaAyOziQGDjKx9_9XTrgcZ8bX5OyXWH7Iv90R9sXOaJYKtyKFCwAnKVmyqSlMFv4pOOf7PKiISus; liap=true; AMCVS_14215E3D5995C57C0A495C55%40AdobeOrg=1; sdsc=22%3A1%2C1677575488797%7EJAPP%2C0K6MhS4QDcSOQzHWYYksYPzduScw%3D; PLAY_SESSION=eyJhbGciOiJIUzI1NiJ9.eyJkYXRhIjp7InNlc3Npb25faWQiOiIyNzQ2ZGRhMS03N2U5LTQyM2UtODA4My03OTVhNTU0NmIxODF8MTY3NjI4Nzg3NCIsImFsbG93bGlzdCI6Int9IiwicmVjZW50bHktc2VhcmNoZWQiOiIiLCJyZWZlcnJhbC11cmwiOiJodHRwczovL21lZGl1bS5jb20vQEJleW9uZHRoZUh5cGUvJUQwJUIzJUQwJUI0JUQwJUI1LSVEMCVCOCVEMSU4MSVEMCVCQSVEMCVCMCVEMSU4MiVEMSU4Qy0lRDAlQjQlRDAlQjAlRDAlQkQlRDAlQkQlRDElOEIlRDAlQjUtJUQwJUJGJUQwJUJFLSVEMCVCNyVEMCVCMCVEMSU4MCVEMCVCRiVEMCVCQiVEMCVCMCVEMSU4MiVEMCVCNS1hN2Q3NGI1Zjg4NmMiLCJhaWQiOiIiLCJSTlQtaWQiOiJ8MCIsInJlY2VudGx5LXZpZXdlZCI6IjEzNDc0NTh8NTIxODMzfDUwNzU3MXw1MjA2Nzl8NTIzMTM2IiwiQ1BULWlkIjoiMllcdTAwMTfDvDUwbXxcIlx1MDAwNcO4w5MywrrCu3ciLCJmbG93VHJhY2tpbmdJZCI6Im9mQTBycko0U0NtNHBoTFU0K2ExSnc9PSIsImV4cGVyaWVuY2UiOiJlbnRpdHkiLCJpc19uYXRpdmUiOiJmYWxzZSIsInRyayI6IiJ9LCJuYmYiOjE2NzY5NzE0ODAsImlhdCI6MTY3Njk3MTQ4MH0.DeqHcBsdP5M10qCq2E5Q_fZtjP3nW2q1x6fWBiImujQ; PLAY_LANG=en; lil-lang=en_US; at_check=true; s_plt=8.97; s_pltp=developer.linkedin.com%2Fproduct-catalog%2Ftalent; s_ppv=developer.linkedin.com%2Fproduct-catalog%2Ftalent%2C100%2C68%2C1448%2C1%2C1; s_cc=true; lang=v=2&lang=en-us; lidc=\"b=VB04:s=V:r=V:a=V:p=V:g=4194:u=202:x=1:i=1677499244:t=1677585644:v=2:sig=AQGKFDDShz-Rv23maHdO3oO_ss2AQ2ht\"\n",
    "Sec-Fetch-Dest: empty\n",
    "Sec-Fetch-Mode: cors\n",
    "Sec-Fetch-Site: same-origin\n",
    "Pragma: no-cache\n",
    "Cache-Control: no-cache\n",
    "TE: trailers\"\"\"\n",
    "\n",
    "headers_str = \"\"\"Host: www.linkedin.com\n",
    "User-Agent: Mozilla/5.0 (Macintosh; Intel Mac OS X 10.15; rv:109.0) Gecko/20100101 Firefox/110.0\n",
    "Accept: application/graphql\n",
    "Accept-Language: en-GB,en;q=0.5\n",
    "Accept-Encoding: gzip, deflate, br\n",
    "Referer: https://www.linkedin.com/feed/\n",
    "x-restli-protocol-version: 2.0.0\n",
    "X-LI-Lang: en_US\n",
    "X-LI-Track: {\"clientVersion\":\"1.11.9694\",\"mpVersion\":\"1.11.9694\",\"osName\":\"web\",\"timezoneOffset\":2,\"timezone\":\"Africa/Cairo\",\"deviceFormFactor\":\"DESKTOP\",\"mpName\":\"voyager-web\",\"displayDensity\":2,\"displayWidth\":3584,\"displayHeight\":2240}\n",
    "X-li-page-instance: urn:li:page:d_flagship3_feed;iZKItSMEScy1iD9ERhfw9Q==\n",
    "Csrf-Token: ajax:4844548687619509694\n",
    "DNT: 1\n",
    "Connection: keep-alive\n",
    "Cookie: JSESSIONID=\"ajax:4844548687619509694\"; lang=v=2&lang=en-us; bcookie=\"v=2&103061b6-761a-4736-81c0-e7b34563abfe\"; bscookie=\"v=1&2023022809144324b62a2c-a3bc-47b0-87e2-16315375748fAQEFxNmXPV-7guVuEgLj2QbHID6AV82k\"; lidc=\"b=VB69:s=V:r=V:a=V:p=V:g=3273:u=6:x=1:i=1677575743:t=1677660946:v=2:sig=AQHjd0wOMm9QiTQZRjhCoQnzUzvUWRGX\"; G_ENABLED_IDPS=google; li_at=AQEDAUFNmb0DyReGAAABhpdOKOAAAAGGu1qs4FYAL2liY9Pv3sYcu2XsGjhtxRi-ND8KneZaD3Peerc2dL8AeGfwlds3sMxkz-taAvmoK9UvNyz-urYqI1nzQih5IPXw7Jf-a3oGDfwZarLvB4yoTNVl; liap=true; timezone=Africa/Cairo; li_theme=light; li_theme_set=app; sdsc=22%3A1%2C1677575156232%7EJAPP%2C03HBX3%2FLlwBPtzLEiopIJIKCmDFg%3D; UserMatchHistory=AQJsqaJzkdtklAAAAYaXTmU7Swp2iglYXa8SJe7nXqnJ2DRp7HpiULwBe5lSy-itR6dBtjlZc27l3v2BToYs7uUzqZQ5kayyiH9_YZ8ZZarOta8MouH5tjbF-zKn2SlG8I0d8H95s00iRwYf867w4uU-o8QqQzb10K_dbQSy0d-NblsYxykMEw4rncvojaWjcJHffICtsjGc_NU2uemgqSUt0RrNTSCXHKQEksDDuZ1r6wL2P8Ua_ayGS95MiTxp8Qgl9tsgAUohSs2GWz56_qAc-KG4XPOudkMFnsg; li_sugr=c99b5553-f5aa-4958-9dc9-d678a957d081; _guid=d5c29797-fd20-4451-808d-5e28c65c88c4; AnalyticsSyncHistory=AQJ-ofKY4m_dhAAAAYaXTmU7YlkRKXcjKyCjqYAuMRC8rlAO3JTAwId5ljKeUIr0WTCMeNyW85QJrMjIClcC2g\n",
    "Sec-Fetch-Dest: empty\n",
    "Sec-Fetch-Mode: cors\n",
    "Sec-Fetch-Site: same-origin\n",
    "Pragma: no-cache\n",
    "Cache-Control: no-cache\n",
    "TE: trailers\"\"\"\n",
    "\n",
    "headers = email.message_from_string(headers_str)\n",
    "\n",
    "url = \"https://www.linkedin.com/voyager/api/search/hits?decorationId=com.linkedin.voyager.deco.jserp.WebJobSearchHitWithSalary-25&count=25&filters=List(locationFallback-%3EWorldwide,geoUrn-%3Eurn%3Ali%3Afs_geo%3A103644278,resultType-%3EJOBS)&keywords=%22python%22%20and%20%28%22develop%22%20OR%20%22engineer%22%29%29%20%20&origin=JOB_SEARCH_PAGE_SEARCH_BUTTON&q=jserpFilters&queryContext=List(primaryHitType-%3EJOBS,spellCorrectionEnabled-%3Etrue)&start=25&topNRequestedFlavors=List(HIDDEN_GEM,IN_NETWORK,SCHOOL_RECRUIT,COMPANY_RECRUIT,SALARY,JOB_SEEKER_QUALIFIED,PRE_SCREENING_QUESTIONS,SKILL_ASSESSMENTS,ACTIVELY_HIRING_COMPANY,TOP_APPLICANT)\"\n",
    "# url = \"https://www.linkedin.com/voyager/api/search/hits?decorationId=com.linkedin.voyager.deco.jserp.WebJobSearchHitWithSalary-25&count=25&filters=List(locationFallback-%3EWorldwide,resultType-%3EJOBS)&keywords=python&origin=JOB_SEARCH_PAGE_OTHER_ENTRY&q=jserpFilters&queryContext=List(primaryHitType-%3EJOBS,spellCorrectionEnabled-%3Etrue)&start=25&topNRequestedFlavors=List(HIDDEN_GEM,IN_NETWORK,SCHOOL_RECRUIT,COMPANY_RECRUIT,SALARY,JOB_SEEKER_QUALIFIED,PRE_SCREENING_QUESTIONS,SKILL_ASSESSMENTS,ACTIVELY_HIRING_COMPANY,TOP_APPLICANT)\"\n",
    "\n",
    "resp = requests.get(url=url, headers=headers)\n",
    "resp.raise_for_status()\n",
    "\n",
    "data = resp.json()\n",
    "if data:\n",
    "    print(data[\"paging\"][\"total\"])\n",
    "else:\n",
    "    print(resp.text)"
   ],
   "metadata": {
    "collapsed": false,
    "pycharm": {
     "name": "#%%\n"
    }
   }
  },
  {
   "cell_type": "code",
   "execution_count": null,
   "outputs": [],
   "source": [],
   "metadata": {
    "collapsed": false,
    "pycharm": {
     "name": "#%%\n"
    }
   }
  }
 ],
 "metadata": {
  "kernelspec": {
   "display_name": "Python 3",
   "language": "python",
   "name": "python3"
  },
  "language_info": {
   "codemirror_mode": {
    "name": "ipython",
    "version": 2
   },
   "file_extension": ".py",
   "mimetype": "text/x-python",
   "name": "python",
   "nbconvert_exporter": "python",
   "pygments_lexer": "ipython2",
   "version": "2.7.6"
  }
 },
 "nbformat": 4,
 "nbformat_minor": 0
}